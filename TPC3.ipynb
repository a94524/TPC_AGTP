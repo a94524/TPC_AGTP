{
 "cells": [
  {
   "cell_type": "markdown",
   "metadata": {},
   "source": [
    "# TPC3"
   ]
  },
  {
   "cell_type": "markdown",
   "metadata": {},
   "source": [
    "## Bubble Sort"
   ]
  },
  {
   "cell_type": "markdown",
   "metadata": {},
   "source": [
    "* __Data início__: 2022-10-09\n",
    "* __Data fim__:2022-10-09\n",
    "* __Supervisor__: José Carlos Ramalho, https://www.di.uminho.pt/~jcr/index.html\n",
    "* __Autor__: Alexandra Cordeiro, A94524\n",
    "* __Resumo__:O código realizado tem como objetivo criar uma aplicação em Python que permita criar uma lista, ler uma lista, somar os elementos de uma lista, calcular a média dos elementos, encontrar o maior e o menor elemento da lista , ordenar por ordem crescente e decrescente obtendo como resposta se está ou não ordenada, procurar um elemento na lista;\n",
    "    "
   ]
  },
  {
   "cell_type": "code",
   "execution_count": 875,
   "metadata": {},
   "outputs": [],
   "source": [
    "def menu():\n",
    "    print(\"\"\"Gestão de lista de inteiros\n",
    "(1) Criar Lista\";\n",
    "(2) Ler lista;\n",
    "(3) Soma;\n",
    "(4) Média;\n",
    "(5) Maior;\n",
    "(6) Menor;\n",
    "(7) OrdenadaOC;\n",
    "(8) OrdenadaOD;\n",
    "(9) ProcuraElemento;\n",
    "(0) Sair\"\"\")"
   ]
  },
  {
   "cell_type": "code",
   "execution_count": 876,
   "metadata": {},
   "outputs": [],
   "source": [
    "def criarListaM():\n",
    "    n=int(input('Introduza o nº de elementos da lista: '))\n",
    "    lista=[]\n",
    "    for i in range(n):\n",
    "        numero=int(input('Introduza o elemento ' + str(i+1) + ': '))\n",
    "        lista.append(numero)\n",
    "    return lista"
   ]
  },
  {
   "cell_type": "code",
   "execution_count": 877,
   "metadata": {},
   "outputs": [],
   "source": [
    "def somaLista(list):\n",
    "    soma=0\n",
    "    for i in list:\n",
    "        soma=soma+i\n",
    "    return soma"
   ]
  },
  {
   "cell_type": "code",
   "execution_count": 878,
   "metadata": {},
   "outputs": [],
   "source": [
    "def mediaLista(list):\n",
    "    soma=0\n",
    "    N=len(list)\n",
    "    for i in list:\n",
    "        soma=soma+i\n",
    "        media=soma/N\n",
    "    return media"
   ]
  },
  {
   "cell_type": "code",
   "execution_count": 879,
   "metadata": {},
   "outputs": [],
   "source": [
    "def maiorElemento(list):\n",
    "    i=0\n",
    "    maior=list[0]\n",
    "    while i<(len(list)-1):\n",
    "        if list[i]<list[i+1] and list[i+1]>maior:\n",
    "            maior=list[i+1]\n",
    "            i=i+1\n",
    "        else:\n",
    "            i=i+1\n",
    "    return maior"
   ]
  },
  {
   "cell_type": "code",
   "execution_count": 880,
   "metadata": {},
   "outputs": [],
   "source": [
    "def menorElemento(list):\n",
    "    i=0\n",
    "    menor=list[0]\n",
    "    while i<(len(list)-1):\n",
    "        if list[i]>list[i+1] and list[i+1]<menor:\n",
    "            menor=list[i+1]\n",
    "            i=i+1\n",
    "        else:\n",
    "            i=i+1\n",
    "    return menor"
   ]
  },
  {
   "cell_type": "code",
   "execution_count": 881,
   "metadata": {},
   "outputs": [],
   "source": [
    "def bubbleSort(list):\n",
    "    i=1\n",
    "    trocar=1\n",
    "    while i < len(list) and trocar<=1:\n",
    "        if list[i-1]>list[i]:\n",
    "            x=list[i-1]\n",
    "            y=list[i]\n",
    "            list[i-1]=y\n",
    "            list[i]=x\n",
    "            trocar=trocar-1\n",
    "        else:\n",
    "            i=i+1\n",
    "    if trocar<1:\n",
    "        return bubbleSort(list)\n",
    "    return(list)"
   ]
  },
  {
   "cell_type": "code",
   "execution_count": 882,
   "metadata": {},
   "outputs": [],
   "source": [
    "def bubbleSortd(list):\n",
    "    i=1\n",
    "    trocar=1\n",
    "    while i < len(list) and trocar<=1:\n",
    "        if list[i-1]<list[i]:\n",
    "            x=list[i-1]\n",
    "            y=list[i]\n",
    "            list[i-1]=y\n",
    "            list[i]=x\n",
    "            trocar=trocar-1\n",
    "        else:\n",
    "            i=i+1\n",
    "    if trocar<1:\n",
    "        return bubbleSortd(list)\n",
    "    return(list)\n",
    "    "
   ]
  },
  {
   "cell_type": "code",
   "execution_count": 883,
   "metadata": {},
   "outputs": [],
   "source": [
    "def procelem(list):\n",
    "    posi=0\n",
    "    x=input(\"Qual é o número que pretende encontrar?\")\n",
    "    for i in range(len(list)):\n",
    "        if x == list[i]:\n",
    "            posi=i\n",
    "    return i\n"
   ]
  },
  {
   "cell_type": "code",
   "execution_count": null,
   "metadata": {},
   "outputs": [
    {
     "name": "stdout",
     "output_type": "stream",
     "text": [
      "Gestão de lista de inteiros\n",
      "(1) Criar Lista\";\n",
      "(2) Ler lista;\n",
      "(3) Soma;\n",
      "(4) Média;\n",
      "(5) Maior;\n",
      "(6) Menor;\n",
      "(7) OrdenadaOC;\n",
      "(8) OrdenadaOD;\n",
      "(9) ProcuraElemento;\n",
      "(0) Sair\n"
     ]
    }
   ],
   "source": [
    "op=\"1\"\n",
    "menu()\n",
    "while op != '0':\n",
    "    op=input('Qual é a sua opção? ')\n",
    "    if op==\"1\":\n",
    "        list=criarListaM()\n",
    "        print(list)\n",
    "    elif op==\"2\":\n",
    "        print(list)\n",
    "    elif op==\"3\":\n",
    "        m=somaLista(list)\n",
    "        print(m)\n",
    "    elif op==\"4\":\n",
    "        me=mediaLista(list)\n",
    "        print(me)\n",
    "    elif op==\"5\":\n",
    "        ma=maiorElemento(list)\n",
    "        print(ma)\n",
    "    elif op==\"6\":\n",
    "        men=menorElemento(list)\n",
    "        print(men)\n",
    "    elif op==\"7\":\n",
    "        if list == bubbleSort(list):\n",
    "            print(\"sim\")\n",
    "        else:\n",
    "            print(\"não\")\n",
    "    elif op==\"8\":\n",
    "        if list == bubbleSortd(list):\n",
    "            print(\"sim\")\n",
    "        else:\n",
    "            print(\"não\")\n",
    "    elif op==\"9\":\n",
    "        p=procelem(list)\n",
    "        print(p)\n",
    "    else:\n",
    "        print('Opção inválida')"
   ]
  },
  {
   "cell_type": "code",
   "execution_count": null,
   "metadata": {},
   "outputs": [],
   "source": []
  },
  {
   "cell_type": "code",
   "execution_count": null,
   "metadata": {},
   "outputs": [],
   "source": []
  }
 ],
 "metadata": {
  "kernelspec": {
   "display_name": "Python 3",
   "language": "python",
   "name": "python3"
  },
  "language_info": {
   "codemirror_mode": {
    "name": "ipython",
    "version": 3
   },
   "file_extension": ".py",
   "mimetype": "text/x-python",
   "name": "python",
   "nbconvert_exporter": "python",
   "pygments_lexer": "ipython3",
   "version": "3.8.3"
  }
 },
 "nbformat": 4,
 "nbformat_minor": 4
}
