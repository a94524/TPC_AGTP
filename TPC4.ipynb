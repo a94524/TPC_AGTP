{
 "cells": [
  {
   "cell_type": "markdown",
   "metadata": {},
   "source": [
    "## TPC4"
   ]
  },
  {
   "cell_type": "markdown",
   "metadata": {},
   "source": [
    "### CINEMA"
   ]
  },
  {
   "cell_type": "markdown",
   "metadata": {},
   "source": [
    "* __Data início__: 2022-10-17\n",
    "* __Data fim__:2022-10-17\n",
    "* __Supervisor__: José Carlos Ramalho, https://www.di.uminho.pt/~jcr/index.html\n",
    "* __Autor__: Alexandra Cordeiro, A94524\n",
    "* __Resumo__:O código realizado tem como objetivo criar uma aplicação para gestão de um conjunto de salas de cinema de um centro comercial\n",
    "    "
   ]
  },
  {
   "cell_type": "code",
   "execution_count": null,
   "metadata": {},
   "outputs": [],
   "source": [
    "def menu():\n",
    "    print(\"\"\"Cinema\n",
    "(1) Filmes em exibição\n",
    "(2) Disponibilidade de lugares\n",
    "(3) Comprar bilhete\n",
    "(4) Lugares vagos\n",
    "(0) Sair\"\"\")\n",
    "    \n",
    "\n",
    "def inserirSala(cinema,sala):\n",
    "    cinema.append(sala)\n",
    "    return cinema\n",
    "\n",
    "def listar(cinema):\n",
    "    L1=[]\n",
    "    for sala in cinema:\n",
    "        L1.append(sala[2])\n",
    "    return L1\n",
    "        \n",
    "def disponivel(cinema,filme,lugar):\n",
    "    disponivel=False\n",
    "    for sala in cinema:\n",
    "        if filme == sala[2]:\n",
    "            if lugar not in sala[1]:\n",
    "                disponivel=True\n",
    "    return disponivel\n",
    "\n",
    "def vendebilhete(cinema,filme,lugar):\n",
    "    disp=disponivel(cinema,filme,lugar)\n",
    "    if disp==True:\n",
    "        for sala in cinema:\n",
    "            if filme == sala[2]:\n",
    "                if lugar not in sala[1]:\n",
    "                    sala[1].append(lugar)\n",
    "                    return cinema\n",
    "    else:\n",
    "        print(\"Lugar ocupado\")\n",
    "        \n",
    "def listardisponibilidades(cinema):\n",
    "    for sala in cinema:\n",
    "        L=[]\n",
    "        L.append(sala[2])\n",
    "        lug=sala[0]-len(sala[1])\n",
    "        L.append(lug)\n",
    "        print(L)\n",
    "\n",
    "        "
   ]
  },
  {
   "cell_type": "code",
   "execution_count": null,
   "metadata": {},
   "outputs": [],
   "source": [
    "sala1 = (150, [3], \"Twilight\")\n",
    "sala2 = (200, [], \"Hannibal\")\n",
    "cinema=[]\n",
    "inserirSala(cinema,sala1)\n",
    "inserirSala(cinema,sala2)\n",
    "\n",
    "menu()\n",
    "stop=False\n",
    "while not stop:\n",
    "    op=input('Qual é a sua opção? ')\n",
    "    if op==\"1\":\n",
    "        l=listar(cinema)\n",
    "        print(l)\n",
    "    elif op==\"2\":\n",
    "        filme=input(\"Qual o filme que quer ver?\")\n",
    "        lugar=int(input(\"Que lugar quer ocupar?\"))\n",
    "        d=disponivel(cinema,filme,lugar)\n",
    "        print(d)\n",
    "    elif op==\"3\":\n",
    "        filme=input(\"Qual o filme que quer ver?\")\n",
    "        lugar=int(input(\"Que lugar quer ocupar?\"))\n",
    "        v=vendebilhete(cinema,filme,lugar)\n",
    "        print(v)\n",
    "    elif op==\"4\":\n",
    "        c=listardisponibilidades(cinema)\n",
    "        print(c)\n",
    "    elif op==\"0\":\n",
    "        stop=True\n",
    "    else:\n",
    "        print(\"Opção inválida\")\n"
   ]
  }
 ],
 "metadata": {
  "kernelspec": {
   "display_name": "Python 3",
   "language": "python",
   "name": "python3"
  },
  "language_info": {
   "codemirror_mode": {
    "name": "ipython",
    "version": 3
   },
   "file_extension": ".py",
   "mimetype": "text/x-python",
   "name": "python",
   "nbconvert_exporter": "python",
   "pygments_lexer": "ipython3",
   "version": "3.8.3"
  }
 },
 "nbformat": 4,
 "nbformat_minor": 4
}
